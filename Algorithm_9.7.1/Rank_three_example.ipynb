{
 "cells": [
  {
   "cell_type": "code",
   "execution_count": 123,
   "metadata": {
    "scrolled": true
   },
   "outputs": [
    {
     "data": {
      "text/html": [
       "Let <script type=\"math/tex\">M</script> be a module of rank 3 over the ring of 7-adic numbers with a variable precision of 40."
      ],
      "text/plain": [
       "Let <script type=\"math/tex\">M</script> be a module of rank 3 over the ring of 7-adic numbers with a variable precision of 40."
      ]
     },
     "metadata": {},
     "output_type": "display_data"
    },
    {
     "data": {
      "text/html": [
       "We consider the quadratic form: <script type=\"math/tex\">Q(x_{1},x_{2},x_{3}) = 2x_{1}^{2}+21x_{1}x_{2}+14x_{1}x_{3}+10x_{2}x_{1}+x_{2}^{2}+19x_{2}x_{3}+x_{3}x_{1}+18x_{3}x_{2}+71x_{3}x_{2}</script>."
      ],
      "text/plain": [
       "We consider the quadratic form: <script type=\"math/tex\">Q(x_{1},x_{2},x_{3}) = 2x_{1}^{2}+21x_{1}x_{2}+14x_{1}x_{3}+10x_{2}x_{1}+x_{2}^{2}+19x_{2}x_{3}+x_{3}x_{1}+18x_{3}x_{2}+71x_{3}x_{2}</script>."
      ]
     },
     "metadata": {},
     "output_type": "display_data"
    },
    {
     "data": {
      "text/html": [
       "Output of the algorithm :"
      ],
      "text/plain": [
       "Output of the algorithm :"
      ]
     },
     "metadata": {},
     "output_type": "display_data"
    },
    {
     "data": {
      "application/vnd.jupyter.widget-view+json": {
       "model_id": "8b05cf527d0544a6a409dcab93e8b1f8",
       "version_major": 2,
       "version_minor": 0
      },
      "text/plain": [
       "SW50ZXJhY3RpdmUgZnVuY3Rpb24gPGZ1bmN0aW9uIF8gYXQgMHg2ZmVjYTI4MzM5OD4gd2l0aCAxIHdpZGdldAogIG1vZGU6IFNlbGVjdGlvblNsaWRlcihkZXNjcmlwdGlvbj11J21vZGUnLCDigKY=\n"
      ]
     },
     "metadata": {},
     "output_type": "display_data"
    },
    {
     "data": {
      "text/html": [
       "The normalized form of <script type=\"math/tex\">Q</script> is :"
      ],
      "text/plain": [
       "The normalized form of <script type=\"math/tex\">Q</script> is :"
      ]
     },
     "metadata": {},
     "output_type": "display_data"
    },
    {
     "data": {
      "text/html": [
       "<html><script type=\"math/tex; mode=display\">\\newcommand{\\Bold}[1]{\\mathbf{#1}}<1>\\perp<1591701440227256996435358784805761>\\perp<232850785404196425810815287223503></script></html>"
      ],
      "text/plain": [
       "<1>\\perp<1591701440227256996435358784805761>\\perp<232850785404196425810815287223503>"
      ]
     },
     "metadata": {},
     "output_type": "display_data"
    }
   ],
   "source": [
    "pretty_print(sage.misc.html.math_parse('Let $M$ be a module of rank 3 over the ring of 7-adic numbers with a variable precision of 40.'))\n",
    "pretty_print(sage.misc.html.math_parse('We consider the quadratic form: $Q(x_{1},x_{2},x_{3}) = 2x_{1}^{2}+21x_{1}x_{2}+14x_{1}x_{3}+10x_{2}x_{1}+x_{2}^{2}+19x_{2}x_{3}+x_{3}x_{1}+18x_{3}x_{2}+71x_{3}x_{2}$.'))\n",
    "\n",
    "# Initialization\n",
    "\n",
    "R = Zp(7, prec = 40)                                                          \n",
    "pi = R.uniformizer()\n",
    "M = R^3\n",
    "basis_elements = list(M.basis())\n",
    "global normal_set\n",
    "normal_set = []\n",
    "coefficients_quadratic = [R(1),R(21),R(14),R(10),R(1),R(19),R(1),R(18),R(71)]\n",
    "\n",
    "# returns a boolean\n",
    "def is_not_zero(element):\n",
    "    if element.valuation() > 40:\n",
    "        return False\n",
    "    else:\n",
    "        return True\n",
    "    \n",
    "# returns the co-ordinate sum of two tuples\n",
    "def add_elements(v1,v2):\n",
    "    v = []\n",
    "    for i in range(len(v1)):\n",
    "        v.append(v1[i]+v2[i])\n",
    "    return v\n",
    "\n",
    "# scales a tuple by a number\n",
    "def scale_element(alpha,v):\n",
    "    w = []\n",
    "    for i in range(len(v)):\n",
    "        w.append(alpha * v[i])\n",
    "    return w\n",
    "\n",
    "# swaps two items in a list\n",
    "def rearrange(lis,num1,num2):\n",
    "    if num1 == num2:\n",
    "        return lis\n",
    "    else:\n",
    "        new_list = []\n",
    "        for i in range(0,len(lis)):\n",
    "            if i == num1:\n",
    "                new_list.append(lis[num2])\n",
    "            elif i == num2:\n",
    "                new_list.append(lis[num1])\n",
    "            else:\n",
    "                new_list.append(lis[i])\n",
    "        return new_list\n",
    "\n",
    "# computes a function\n",
    "def quadratic_map(element):\n",
    "    out = R(0)\n",
    "    count = 0\n",
    "    for i in range(3):\n",
    "        for j in range(3):\n",
    "            out += coefficients_quadratic[count]*element[i]*element[j]\n",
    "            count += 1\n",
    "    return out\n",
    "\n",
    "# computes the induced function\n",
    "def bilinear_map(element_one,element_two):\n",
    "    return quadratic_map(add_elements(element_one,element_two)) - quadratic_map(element_one) - quadratic_map(element_two)\n",
    "\n",
    "# recursive algorithm\n",
    "def normalizer(basis):\n",
    "    value_collection=[]                                               # computes values of bilinear map for all possible combinations\n",
    "    num = len(basis)\n",
    "    for i in range(num):\n",
    "        for j in range(num):\n",
    "            entry = bilinear_map(basis[i],basis[j])\n",
    "            value_collection.append(entry)\n",
    "    \n",
    "    trigger = True                                                    # checks if the set is already normalized\n",
    "    for i in range(len(value_collection)):\n",
    "        if(is_not_zero(value_collection[i])):\n",
    "            trigger = False\n",
    "            break\n",
    "    if trigger:\n",
    "        normal_set.append(basis)\n",
    "        return \n",
    "    \n",
    "    equally_valued = [0]                                              # searchs for the elements with the smallest valuation\n",
    "    least_valuation = value_collection[0].valuation()\n",
    "    for i in range(1,len(value_collection)):\n",
    "        current_valuation = value_collection[i].valuation()\n",
    "        if least_valuation < current_valuation:\n",
    "            equally_valued = [i]\n",
    "            least_valuation = current_valuation\n",
    "        elif least_valuation == current_valuation:\n",
    "            equally_valued.append(i)\n",
    "        else:\n",
    "            continue\n",
    "            \n",
    "    flag = 0                                                          # picks the smallest pair (i,j) as prescribed by the algorithm\n",
    "    left = num\n",
    "    right = num\n",
    "    for i in range(0,len(equally_valued)):\n",
    "        current = equally_valued[i]\n",
    "        tuple_one = current // num\n",
    "        tuple_two = current % num\n",
    "        if tuple_one == tuple_two:\n",
    "            left = tuple_one\n",
    "            right = tuple_two\n",
    "            flag = 1\n",
    "            normal_set.append(basis[left])\n",
    "            break\n",
    "        if tuple_one<left:\n",
    "            left = tuple_one\n",
    "            right = tuple_two\n",
    "    if R(2).is_unit() and flag == 0:\n",
    "        flag = 1\n",
    "        normal_set.append(add_elements(basis[left],basis[right]))\n",
    "        \n",
    "    if flag == 1:                                                    # step three of the algorithm\n",
    "        basis = rearrange(basis,0,left)\n",
    "        new_basis = []\n",
    "        n = normal_set[-1]\n",
    "        T = bilinear_map(n,n)\n",
    "        for i in range(1,num):\n",
    "            scaled = scale_element(R(-1)*bilinear_map(n,scale_element(R(1)/T,basis[i])),n)\n",
    "            new = add_elements(basis[i],scaled) \n",
    "            new_basis.append(new)\n",
    "            \n",
    "    elif flag == 0:                                                  # step four of the algorithm\n",
    "        new_basis = []\n",
    "        T = bilinear_map(basis[left],basis[right])\n",
    "        T_valuation = T.valuation()\n",
    "        exponent = R(1)/T\n",
    "        for i in range(T_valuation):\n",
    "            exponent*=pi\n",
    "        normal_set.append(scale_element(exponent,basis[left]))\n",
    "        normal_set.append(basis[right])\n",
    "        basis = rearrange(basis,0,left)\n",
    "        basis = rearrange(basis,1,right)\n",
    "        f1 = normal_set[-2]\n",
    "        f2 = normal_set[-1]\n",
    "        T1 = bilinear_map(f1,f1)\n",
    "        T2 = bilinear_map(f2,f2)\n",
    "        T = bilinear_map(f1,f2)\n",
    "        d  = T1*T2 - T*T\n",
    "        for i in range(2,num):\n",
    "            b = basis[i]\n",
    "            t = T*bilinear_map(f2,b) - T2*bilinear_map(f1,b)\n",
    "            u = T*bilinear_map(f1,b) - T1*bilinear_map(f2,b)\n",
    "            scale1 = scale_element(t/d,f1)\n",
    "            scale2 = scale_element(u/d,f2)\n",
    "            new_basis.append(add_elements(b,add_elements(scale2,scale1)))\n",
    "    \n",
    "    total = len(new_basis)\n",
    "    if total == 0:                                                  # returns the normalized basis\n",
    "        return\n",
    "    else:\n",
    "        normalizer(new_basis)                                       # loops back with the new basis vectors\n",
    "        \n",
    "normalizer(basis_elements)\n",
    "\n",
    "pretty_print(sage.misc.html.math_parse('Output of the algorithm :'))\n",
    "\n",
    "@interact\n",
    "def _(mode=slider(['hide','display'])):\n",
    "    if mode == 'display':\n",
    "        show(normal_set)\n",
    "    else:\n",
    "        print(\"\")\n",
    "\n",
    "pretty_print(sage.misc.html.math_parse('The normalized form of $Q$ is :'))\n",
    "pretty_print(LatexExpr('<1>\\perp<1591701440227256996435358784805761>\\perp<232850785404196425810815287223503>'))"
   ]
  }
 ],
 "metadata": {
  "kernelspec": {
   "display_name": "SageMath 8.7",
   "language": "",
   "name": "sagemath"
  },
  "language_info": {
   "codemirror_mode": {
    "name": "ipython",
    "version": 2
   },
   "file_extension": ".py",
   "mimetype": "text/x-python",
   "name": "python",
   "nbconvert_exporter": "python",
   "pygments_lexer": "ipython2",
   "version": "2.7.15"
  }
 },
 "nbformat": 4,
 "nbformat_minor": 2
}
